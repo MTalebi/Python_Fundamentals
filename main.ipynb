{
 "cells": [
  {
   "cell_type": "markdown",
   "id": "f56d4c68",
   "metadata": {},
   "source": [
    "# Python Fundamentals: An Educational Notebook\n",
    "Author: **Mohammad Talebi-Kalaleh**  \n",
    "Contact: [talebika@ualberta.ca](mailto:talebika@ualberta.ca)\n",
    "\n",
    "## Table of Contents\n",
    "1. [Introduction](#introduction)\n",
    "2. [Variables and Data Types](#variables)\n",
    "3. [Basic Operators](#operators)\n",
    "4. [Conditionals](#conditionals)\n",
    "5. [Loops](#loops)\n",
    "6. [Functions](#functions)\n",
    "7. [Classes (Object-Oriented Programming)](#classes)\n",
    "8. [Working with Modules and Packages](#modules)\n",
    "9. [NumPy Basics](#numpy)\n",
    "10. [Matplotlib Basics](#matplotlib)\n",
    "11. [Conclusion](#conclusion)\n",
    "\n",
    "This notebook is designed to provide a straightforward introduction to the Python programming language, covering fundamental concepts from variables and data types to functions and classes. We will also introduce two popular libraries: **NumPy** for numerical computations and **Matplotlib** for data visualization."
   ]
  },
  {
   "cell_type": "markdown",
   "id": "b24e9166",
   "metadata": {},
   "source": [
    "## 1. Introduction <a class=\"anchor\" id=\"introduction\"></a>\n",
    "Python is a high-level, interpreted programming language known for its readability and wide range of applications, from web development to data science and artificial intelligence. Throughout this notebook, you will learn:\n",
    "\n",
    "- How to create and use variables and data types\n",
    "- How to use operators, conditionals, and loops\n",
    "- How to write functions and classes\n",
    "- How to work with popular libraries like NumPy and Matplotlib\n",
    "\n",
    "Let's get started!"
   ]
  },
  {
   "cell_type": "markdown",
   "id": "c13b4089",
   "metadata": {},
   "source": [
    "## 2. Variables and Data Types <a class=\"anchor\" id=\"variables\"></a>\n",
    "Variables in Python are created when you first assign a value to them. Python has several built-in data types:\n",
    "- **int** for integers (e.g., `1`, `20`, `300`)\n",
    "- **float** for floating-point numbers (e.g., `3.14`, `0.001`)\n",
    "- **str** for strings (e.g., `'Hello'`, `\"World\"`)\n",
    "- **bool** for Boolean values (`True` or `False`)\n",
    "\n",
    "### Important points\n",
    "- You do not need to declare a variable type explicitly. Python infers it from the assigned value.\n",
    "- Variable names are case-sensitive.\n",
    "- By convention, we use lowercase names with underscores (snake_case) for variable names in Python.\n",
    "\n",
    "Let's see some examples."
   ]
  },
  {
   "cell_type": "code",
   "execution_count": 16,
   "id": "7a493ba3",
   "metadata": {},
   "outputs": [
    {
     "name": "stdout",
     "output_type": "stream",
     "text": [
      "my_int: 10 - type: <class 'int'>\n",
      "my_float: 3.14 - type: <class 'float'>\n",
      "my_str: Hello World - type: <class 'str'>\n",
      "my_bool: True - type: <class 'bool'>\n"
     ]
    }
   ],
   "source": [
    "# Assigning variables\n",
    "my_int = 10            # int\n",
    "my_float = 3.14        # float\n",
    "my_str = \"Hello World\" # str\n",
    "my_bool = True         # bool\n",
    "\n",
    "print(\"my_int:\", my_int, \"- type:\", type(my_int))\n",
    "print(\"my_float:\", my_float, \"- type:\", type(my_float))\n",
    "print(\"my_str:\", my_str, \"- type:\", type(my_str))\n",
    "print(\"my_bool:\", my_bool, \"- type:\", type(my_bool))"
   ]
  },
  {
   "cell_type": "markdown",
   "id": "6761ba87",
   "metadata": {},
   "source": [
    "### Casting\n",
    "You can convert one data type to another using casting functions like `int()`, `float()`, `str()`, etc. This is useful when you need a specific data type for operations or for printing."
   ]
  },
  {
   "cell_type": "code",
   "execution_count": 17,
   "id": "5f31914b",
   "metadata": {},
   "outputs": [
    {
     "name": "stdout",
     "output_type": "stream",
     "text": [
      "number_int: 123 - type: <class 'int'>\n",
      "int_num: 3 - type: <class 'int'>\n"
     ]
    }
   ],
   "source": [
    "number_str = \"123\"\n",
    "number_int = int(number_str)  # Convert string to int\n",
    "print(\"number_int:\", number_int, \"- type:\", type(number_int))\n",
    "\n",
    "float_num = 3.99\n",
    "int_num = int(float_num)      # Convert float to int\n",
    "print(\"int_num:\", int_num, \"- type:\", type(int_num))"
   ]
  },
  {
   "cell_type": "markdown",
   "id": "0d9b7720",
   "metadata": {},
   "source": [
    "## 3. Basic Operators <a class=\"anchor\" id=\"operators\"></a>\n",
    "Python supports several types of operators:\n",
    "1. **Arithmetic Operators**: `+`, `-`, `*`, `/`, `//` (floor division), `%` (modulo), `**` (exponent)\n",
    "2. **Comparison Operators**: `==`, `!=`, `>`, `<`, `>=`, `<=`\n",
    "3. **Logical Operators**: `and`, `or`, `not`"
   ]
  },
  {
   "cell_type": "code",
   "execution_count": 18,
   "id": "9619f7b9",
   "metadata": {},
   "outputs": [
    {
     "name": "stdout",
     "output_type": "stream",
     "text": [
      "a + b = 13\n",
      "a - b = 7\n",
      "a * b = 30\n",
      "a / b = 3.3333333333333335\n",
      "a // b = 3\n",
      "a % b = 1\n",
      "a ** b = 1000\n"
     ]
    }
   ],
   "source": [
    "# Arithmetic Operators\n",
    "a = 10\n",
    "b = 3\n",
    "\n",
    "print(\"a + b =\", a + b)\n",
    "print(\"a - b =\", a - b)\n",
    "print(\"a * b =\", a * b)\n",
    "print(\"a / b =\", a / b)   # Classic division\n",
    "print(\"a // b =\", a // b) # Floor division\n",
    "print(\"a % b =\", a % b)   # Modulo\n",
    "print(\"a ** b =\", a ** b) # Exponentiation"
   ]
  },
  {
   "cell_type": "code",
   "execution_count": 19,
   "id": "8766a62b",
   "metadata": {},
   "outputs": [
    {
     "name": "stdout",
     "output_type": "stream",
     "text": [
      "a == b: False\n",
      "a != b: True\n",
      "a > b : True\n",
      "a < b : False\n",
      "a >= b: True\n",
      "a <= b: False\n"
     ]
    }
   ],
   "source": [
    "# Comparison Operators\n",
    "print(\"a == b:\", a == b)\n",
    "print(\"a != b:\", a != b)\n",
    "print(\"a > b :\", a > b)\n",
    "print(\"a < b :\", a < b)\n",
    "print(\"a >= b:\", a >= b)\n",
    "print(\"a <= b:\", a <= b)"
   ]
  },
  {
   "cell_type": "code",
   "execution_count": 20,
   "id": "f499d41e",
   "metadata": {},
   "outputs": [
    {
     "name": "stdout",
     "output_type": "stream",
     "text": [
      "x and y: False\n",
      "x or y : True\n",
      "not x : False\n"
     ]
    }
   ],
   "source": [
    "# Logical Operators\n",
    "x = True\n",
    "y = False\n",
    "\n",
    "print(\"x and y:\", x and y)  # True if both x and y are True\n",
    "print(\"x or y :\", x or y)   # True if either x or y is True\n",
    "print(\"not x :\", not x)    # True if x is False"
   ]
  },
  {
   "cell_type": "markdown",
   "id": "875f5e34",
   "metadata": {},
   "source": [
    "## 4. Conditionals <a class=\"anchor\" id=\"conditionals\"></a>\n",
    "Python uses `if`, `elif`, and `else` statements for conditional branching. The syntax is straightforward:\n",
    "\n",
    "```python\n",
    "if condition:\n",
    "    # do something\n",
    "elif another_condition:\n",
    "    # do something else\n",
    "else:\n",
    "    # do this if none of the above conditions are True\n",
    "```"
   ]
  },
  {
   "cell_type": "code",
   "execution_count": 21,
   "id": "158d894c",
   "metadata": {},
   "outputs": [
    {
     "name": "stdout",
     "output_type": "stream",
     "text": [
      "Score: 85\n",
      "Grade: B\n"
     ]
    }
   ],
   "source": [
    "score = 85\n",
    "\n",
    "if score >= 90:\n",
    "    grade = \"A\"\n",
    "elif score >= 80:\n",
    "    grade = \"B\"\n",
    "elif score >= 70:\n",
    "    grade = \"C\"\n",
    "else:\n",
    "    grade = \"F\"\n",
    "\n",
    "print(\"Score:\", score)\n",
    "print(\"Grade:\", grade)"
   ]
  },
  {
   "cell_type": "markdown",
   "id": "462bc4aa",
   "metadata": {},
   "source": [
    "## 5. Loops <a class=\"anchor\" id=\"loops\"></a>\n",
    "Python provides two main looping constructs: **`for`** loops and **`while`** loops.\n",
    "\n",
    "### `for` loops\n",
    "`for` loops are used to iterate over a sequence (like a list, tuple, or string) or other iterable objects.\n",
    "\n",
    "```python\n",
    "for item in iterable:\n",
    "    # do something with item\n",
    "```"
   ]
  },
  {
   "cell_type": "code",
   "execution_count": 22,
   "id": "f4d58ad9",
   "metadata": {},
   "outputs": [
    {
     "name": "stdout",
     "output_type": "stream",
     "text": [
      "I like apple\n",
      "I like banana\n",
      "I like cherry\n"
     ]
    }
   ],
   "source": [
    "# Example of a for loop\n",
    "fruits = [\"apple\", \"banana\", \"cherry\"]\n",
    "\n",
    "for fruit in fruits:\n",
    "    print(\"I like\", fruit)"
   ]
  },
  {
   "cell_type": "markdown",
   "id": "074670f1",
   "metadata": {},
   "source": [
    "You can also use the built-in function `range(start, stop, step)` to generate a sequence of numbers."
   ]
  },
  {
   "cell_type": "code",
   "execution_count": 23,
   "id": "bc114e2c",
   "metadata": {},
   "outputs": [
    {
     "name": "stdout",
     "output_type": "stream",
     "text": [
      "0\n",
      "1\n",
      "2\n",
      "3\n",
      "4\n"
     ]
    }
   ],
   "source": [
    "# Print numbers from 0 to 4\n",
    "for i in range(5):\n",
    "    print(i)"
   ]
  },
  {
   "cell_type": "markdown",
   "id": "74a05109",
   "metadata": {},
   "source": [
    "### `while` loops\n",
    "A `while` loop repeatedly executes a block of code as long as a given condition is True.\n",
    "\n",
    "```python\n",
    "while condition:\n",
    "    # code block\n",
    "```"
   ]
  },
  {
   "cell_type": "code",
   "execution_count": 24,
   "id": "d1257a68",
   "metadata": {},
   "outputs": [
    {
     "name": "stdout",
     "output_type": "stream",
     "text": [
      "Count: 0\n",
      "Count: 1\n",
      "Count: 2\n",
      "Count: 3\n",
      "Count: 4\n"
     ]
    }
   ],
   "source": [
    "count = 0\n",
    "while count < 5:\n",
    "    print(\"Count:\", count)\n",
    "    count += 1  # increment count"
   ]
  },
  {
   "cell_type": "markdown",
   "id": "b1308091",
   "metadata": {},
   "source": [
    "## 6. Functions <a class=\"anchor\" id=\"functions\"></a>\n",
    "Functions in Python are defined using the `def` keyword. They help in organizing code into reusable blocks.\n",
    "\n",
    "```python\n",
    "def function_name(parameters):\n",
    "    # docstring (optional)\n",
    "    # code block\n",
    "    return something\n",
    "```"
   ]
  },
  {
   "cell_type": "code",
   "execution_count": 25,
   "id": "1bb2d4a6",
   "metadata": {},
   "outputs": [
    {
     "name": "stdout",
     "output_type": "stream",
     "text": [
      "Hello, Alice\n"
     ]
    }
   ],
   "source": [
    "def greet(name):\n",
    "    \"\"\"Print a greeting message.\"\"\"\n",
    "    print(\"Hello,\", name)\n",
    "\n",
    "greet(\"Alice\")  # Call the function"
   ]
  },
  {
   "cell_type": "markdown",
   "id": "6990b775",
   "metadata": {},
   "source": [
    "### Example: Factorial Function\n",
    "Let's write a function to compute the factorial of a number using a simple loop."
   ]
  },
  {
   "cell_type": "code",
   "execution_count": 26,
   "id": "4d4fc9bf",
   "metadata": {},
   "outputs": [
    {
     "name": "stdout",
     "output_type": "stream",
     "text": [
      "factorial(5) = 120\n",
      "factorial(0) = 1\n",
      "factorial(-1) = None\n"
     ]
    }
   ],
   "source": [
    "def factorial(n):\n",
    "    \"\"\"Return the factorial of n (n!).\"\"\"\n",
    "    if n < 0:\n",
    "        return None  # factorial not defined for negative numbers\n",
    "    result = 1\n",
    "    for i in range(1, n + 1):\n",
    "        result *= i\n",
    "    return result\n",
    "\n",
    "# Test the factorial function\n",
    "print(\"factorial(5) =\", factorial(5))\n",
    "print(\"factorial(0) =\", factorial(0))\n",
    "print(\"factorial(-1) =\", factorial(-1))  # should be None"
   ]
  },
  {
   "cell_type": "markdown",
   "id": "faa4b4b6",
   "metadata": {},
   "source": [
    "## 7. Classes (Object-Oriented Programming) <a class=\"anchor\" id=\"classes\"></a>\n",
    "Python supports object-oriented programming (OOP). You can define classes to create objects with attributes (data) and methods (functions)."
   ]
  },
  {
   "cell_type": "code",
   "execution_count": 27,
   "id": "03e5cab3",
   "metadata": {},
   "outputs": [
    {
     "name": "stdout",
     "output_type": "stream",
     "text": [
      "Buddy is 4 years old.\n",
      "Buddy says Woof!\n",
      "In human years, my dog is 28 years old.\n"
     ]
    }
   ],
   "source": [
    "class Dog:\n",
    "    \"\"\"A simple Dog class\"\"\"\n",
    "    def __init__(self, name, age):\n",
    "        # Constructor\n",
    "        self.name = name\n",
    "        self.age = age\n",
    "    \n",
    "    def bark(self):\n",
    "        print(f\"{self.name} says Woof!\")\n",
    "\n",
    "    def get_human_years(self):\n",
    "        return self.age * 7\n",
    "\n",
    "# Create an instance of the Dog class\n",
    "my_dog = Dog(\"Buddy\", 4)\n",
    "print(my_dog.name, \"is\", my_dog.age, \"years old.\")\n",
    "my_dog.bark()\n",
    "print(\"In human years, my dog is\", my_dog.get_human_years(), \"years old.\")"
   ]
  },
  {
   "cell_type": "markdown",
   "id": "ca48da16",
   "metadata": {},
   "source": [
    "## 8. Working with Modules and Packages <a class=\"anchor\" id=\"modules\"></a>\n",
    "Python has a vast standard library and also allows you to install external packages. You can import these modules/packages using the `import` statement.\n",
    "\n",
    "**Examples:**\n",
    "- `import math` (standard library module)\n",
    "- `import numpy as np` (external library for numerical computations)\n",
    "- `from datetime import datetime` (import a specific class from a module)\n",
    "\n",
    "Let's look at a simple example using the built-in `math` module."
   ]
  },
  {
   "cell_type": "code",
   "execution_count": 28,
   "id": "c8faa238",
   "metadata": {},
   "outputs": [
    {
     "name": "stdout",
     "output_type": "stream",
     "text": [
      "Pi is: 3.141592653589793\n",
      "Square root of 16 is: 4.0\n"
     ]
    }
   ],
   "source": [
    "import math\n",
    "\n",
    "print(\"Pi is:\", math.pi)\n",
    "print(\"Square root of 16 is:\", math.sqrt(16))"
   ]
  },
  {
   "cell_type": "markdown",
   "id": "8097bfaa",
   "metadata": {},
   "source": [
    "## 9. NumPy Basics <a class=\"anchor\" id=\"numpy\"></a>\n",
    "[NumPy](https://numpy.org/) is a popular Python library for numerical computing. It provides a powerful array object called `ndarray` and a large set of mathematical functions to operate on these arrays.\n",
    "\n",
    "**Installation (if needed):**\n",
    "```bash\n",
    "pip install numpy\n",
    "```\n",
    "\n",
    "### Key Features of NumPy\n",
    "- Efficient array manipulation\n",
    "- Broadcasting operations\n",
    "- Mathematical, logical, shape manipulation, sorting, and many more operations\n",
    "\n",
    "Let's see some basic usage."
   ]
  },
  {
   "cell_type": "code",
   "execution_count": 29,
   "id": "2f4baaaf",
   "metadata": {},
   "outputs": [
    {
     "name": "stdout",
     "output_type": "stream",
     "text": [
      "1D Array: [1 2 3 4 5]\n",
      "\n",
      "2D Array:\n",
      " [[1 2 3]\n",
      " [4 5 6]]\n",
      "\n",
      "Shape of arr_1d: (5,)\n",
      "Shape of arr_2d: (2, 3)\n",
      "\n",
      "Sum of arr_1d: 15\n",
      "Mean of arr_1d: 3.0\n",
      "Max of arr_1d: 5\n"
     ]
    }
   ],
   "source": [
    "import numpy as np\n",
    "\n",
    "# Create a 1D array\n",
    "arr_1d = np.array([1, 2, 3, 4, 5])\n",
    "print(\"1D Array:\", arr_1d)\n",
    "\n",
    "# Create a 2D array\n",
    "arr_2d = np.array([[1, 2, 3],\n",
    "                   [4, 5, 6]])\n",
    "print(\"\\n2D Array:\\n\", arr_2d)\n",
    "\n",
    "# Shape of the arrays\n",
    "print(\"\\nShape of arr_1d:\", arr_1d.shape)\n",
    "print(\"Shape of arr_2d:\", arr_2d.shape)\n",
    "\n",
    "# Some array operations\n",
    "print(\"\\nSum of arr_1d:\", np.sum(arr_1d))\n",
    "print(\"Mean of arr_1d:\", np.mean(arr_1d))\n",
    "print(\"Max of arr_1d:\", np.max(arr_1d))"
   ]
  },
  {
   "cell_type": "markdown",
   "id": "c9539bda",
   "metadata": {},
   "source": [
    "## 10. Matplotlib Basics <a class=\"anchor\" id=\"matplotlib\"></a>\n",
    "[Matplotlib](https://matplotlib.org/) is a powerful plotting library for Python. You can create static, animated, and interactive visualizations in Python.\n",
    "\n",
    "**Installation (if needed):**\n",
    "```bash\n",
    "pip install matplotlib\n",
    "```\n",
    "\n",
    "### Example: Simple Line Plot"
   ]
  },
  {
   "cell_type": "code",
   "execution_count": 30,
   "id": "b400f6e9",
   "metadata": {},
   "outputs": [
    {
     "name": "stderr",
     "output_type": "stream",
     "text": [
      "UsageError: unrecognized arguments: # Only needed in some notebook environments\n"
     ]
    }
   ],
   "source": [
    "%matplotlib inline  # Only needed in some notebook environments\n",
    "import matplotlib.pyplot as plt\n",
    "\n",
    "# Create some data\n",
    "x = np.linspace(0, 2*np.pi, 100)\n",
    "y = np.sin(x)\n",
    "\n",
    "# Plot the data\n",
    "plt.figure(figsize=(8, 4))\n",
    "plt.plot(x, y, label='sin(x)')\n",
    "plt.title(\"Sine Wave\")\n",
    "plt.xlabel(\"x\")\n",
    "plt.ylabel(\"sin(x)\")\n",
    "plt.legend()\n",
    "plt.show()"
   ]
  },
  {
   "cell_type": "markdown",
   "id": "838b14fb",
   "metadata": {},
   "source": [
    "## 11. Conclusion <a class=\"anchor\" id=\"conclusion\"></a>\n",
    "In this notebook, we covered the essential fundamentals of Python:\n",
    "- Variables, Data Types, and Casting\n",
    "- Basic Operators, Conditionals, and Loops\n",
    "- Functions and Classes\n",
    "- Importing Modules, with a short introduction to NumPy and Matplotlib\n",
    "\n",
    "These concepts form the backbone of most Python programming tasks. Once you feel comfortable with these basics, you can explore more advanced topics like:\n",
    "- Data Structures (Lists, Tuples, Dictionaries, Sets, etc.)\n",
    "- Error Handling (Try/Except)\n",
    "- Advanced Libraries (Pandas, Scikit-learn, TensorFlow, etc.)\n",
    "- Web Development with Frameworks (Django, Flask)\n",
    "\n",
    "Happy Coding!\n",
    "\n",
    "---\n",
    "**Author:** [Mohammad Talebi-Kalaleh](mailto:talebika@ualberta.ca)\n",
    "\n",
    "> **Note**: If you have any questions or need further clarification, feel free to reach out!"
   ]
  }
 ],
 "metadata": {
  "kernelspec": {
   "display_name": "Python 3",
   "language": "python",
   "name": "python3"
  },
  "language_info": {
   "codemirror_mode": {
    "name": "ipython",
    "version": 3
   },
   "file_extension": ".py",
   "mimetype": "text/x-python",
   "name": "python",
   "nbconvert_exporter": "python",
   "pygments_lexer": "ipython3",
   "version": "3.12.1"
  },
  "name": "Python_Fundamentals_Notebook"
 },
 "nbformat": 4,
 "nbformat_minor": 5
}
